{
 "cells": [
  {
   "cell_type": "markdown",
   "metadata": {},
   "source": [
    "# Laboratorio 6 SDS 20498"
   ]
  },
  {
   "cell_type": "code",
   "execution_count": 2,
   "metadata": {},
   "outputs": [
    {
     "name": "stdout",
     "output_type": "stream",
     "text": [
      "Tipo de variable: <class 'scapy.plist.PacketList'>\n",
      "Longitud de la variable: 25\n",
      "Contenido de la variable: <Sniffed: TCP:19 UDP:6 ICMP:0 Other:0>\n",
      "\n",
      "Tipo de dato del primer paquete capturado: <class 'scapy.layers.l2.Ether'>\n",
      "\n",
      "Contenido de 5 paquetes:\n",
      "Paquete 1:\n",
      "Ether / IP / TCP 192.168.1.14:29253 > 20.50.201.195:https PA / Raw\n",
      "\n",
      "Paquete 2:\n",
      "Ether / IP / TCP 192.168.1.14:29253 > 20.50.201.195:https PA / Raw\n",
      "\n",
      "Paquete 3:\n",
      "Ether / IP / TCP 192.168.1.14:29253 > 20.50.201.195:https A / Raw\n",
      "\n",
      "Paquete 4:\n",
      "Ether / IP / TCP 192.168.1.14:29253 > 20.50.201.195:https A / Raw\n",
      "\n",
      "Paquete 5:\n",
      "Ether / IP / TCP 192.168.1.14:29253 > 20.50.201.195:https A / Raw\n",
      "\n"
     ]
    }
   ],
   "source": [
    "from scapy.all import *\n",
    "\n",
    "# Capturar 25 paquetes de la red doméstica\n",
    "paquetes = sniff(count=25)\n",
    "\n",
    "# Imprimir información sobre la variable 'paquetes'\n",
    "print(\"Tipo de variable:\", type(paquetes))\n",
    "print(\"Longitud de la variable:\", len(paquetes))\n",
    "print(\"Contenido de la variable:\", paquetes)\n",
    "\n",
    "# Imprimir el tipo de dato del primer paquete capturado\n",
    "primer_paquete = paquetes[0]\n",
    "print(\"\\nTipo de dato del primer paquete capturado:\", type(primer_paquete))\n",
    "\n",
    "# Imprimir el contenido de 5 paquetes\n",
    "print(\"\\nContenido de 5 paquetes:\")\n",
    "for i in range(5):\n",
    "    print(f\"Paquete {i+1}:\\n{paquetes[i]}\\n\")\n"
   ]
  },
  {
   "cell_type": "code",
   "execution_count": null,
   "metadata": {},
   "outputs": [],
   "source": []
  }
 ],
 "metadata": {
  "kernelspec": {
   "display_name": "Python 3",
   "language": "python",
   "name": "python3"
  },
  "language_info": {
   "codemirror_mode": {
    "name": "ipython",
    "version": 3
   },
   "file_extension": ".py",
   "mimetype": "text/x-python",
   "name": "python",
   "nbconvert_exporter": "python",
   "pygments_lexer": "ipython3",
   "version": "3.10.11"
  }
 },
 "nbformat": 4,
 "nbformat_minor": 2
}
